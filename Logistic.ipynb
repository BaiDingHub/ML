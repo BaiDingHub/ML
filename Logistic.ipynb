{
 "cells": [
  {
   "cell_type": "code",
   "execution_count": 1,
   "metadata": {},
   "outputs": [],
   "source": [
    "import numpy as np\n",
    "import matplotlib.pyplot as plt\n",
    "import pandas as pd\n",
    "import random\n",
    "\n",
    "df_train = pd.read_csv(\"train.csv\")\n",
    "df_test = pd.read_csv(\"test.csv\")\n",
    "df_test_result=pd.read_csv(\"gender_submission.csv\")"
   ]
  },
  {
   "cell_type": "code",
   "execution_count": 2,
   "metadata": {},
   "outputs": [],
   "source": [
    "def transOnehot(dataSet,index):\n",
    "    length = len(dataSet)\n",
    "    max = dataSet[index].max().astype(int)\n",
    "    result = []\n",
    "    for number in dataSet[index]:\n",
    "        zero = np.zeros(max + 1)\n",
    "        zero[int(number)] = 1\n",
    "        result.append(zero.tolist())\n",
    "    return np.array(result)"
   ]
  },
  {
   "cell_type": "code",
   "execution_count": 3,
   "metadata": {},
   "outputs": [],
   "source": [
    "def deal_data(dataSet,change_survived):\n",
    "    \"\"\"处理数据\"\"\"\n",
    "    #将名字中的Mr,Mrs,Miss抽出来\n",
    "    dataSet['Title'] = dataSet['Name'].apply(lambda x:x.split(',')[1]).apply(lambda x:x.split()[0])\n",
    "    dataSet.loc[~(df_train['Title'].isin(['Master.','Mrs.','Miss.','Master.'])),'Title_Val'] = 4\n",
    "    dataSet.loc[(df_train['Title'].isin(['Mr.'])),'Title_Val'] = 0\n",
    "    dataSet.loc[(df_train['Title'].isin(['Mrs.'])),'Title_Val'] = 1\n",
    "    dataSet.loc[(df_train['Title'].isin(['Miss.'])),'Title_Val'] = 2\n",
    "    dataSet.loc[(df_train['Title'].isin(['Master.'])),'Title_Val'] = 3\n",
    "    #转化成onehot类型   \n",
    "#     title_val = transOnehot(dataSet,'Title_Val')\n",
    "#     dataSet['Title_Val_0']  = title_val[:,0]\n",
    "#     dataSet['Title_Val_1']  = title_val[:,1]\n",
    "#     dataSet['Title_Val_2']  = title_val[:,2]\n",
    "#     dataSet['Title_Val_3']  = title_val[:,3]\n",
    "#     dataSet['Title_Val_4']  = title_val[:,4]\n",
    "    \n",
    "    #将性别转化成离散值Sex_Val{'male':0,'female':1}\n",
    "    sexes = dataSet['Sex'].unique()\n",
    "    genders_mapping_one = dict(zip(sexes, range(0, len(sexes) + 1)))\n",
    "    dataSet['Sex_Val'] = dataSet['Sex'].map(genders_mapping_one).astype(int)\n",
    "    \n",
    "    #将SibSp,Parch 转化成一个离散值Family\n",
    "    dataSet['FamilySize'] = dataSet['SibSp'] + dataSet['Parch']\n",
    "    #将Fare归一化\n",
    "    dataSet.loc[(dataSet['Fare'].isnull()),'Fare'] = dataSet['Fare'].median()\n",
    "    maxFare = dataSet['Fare'].max()\n",
    "    minFare = dataSet['Fare'].min()\n",
    "    dit = maxFare - minFare\n",
    "    dataSet['FareNormal'] = dataSet['Fare']/dit\n",
    "    \n",
    "    #将Cabin的有无当成一个特征Cabin_Val{'unexist':0,'exist':1}\n",
    "    dataSet.loc[ (dataSet.Cabin.notnull()), 'Cabin_Val' ] = 1\n",
    "    dataSet.loc[ (dataSet.Cabin.isnull()), 'Cabin_Val' ] = 0\n",
    "    \n",
    "     #将Embarked转化成数字Embarked_Val={'S':0,'C':1,'Q':2}\n",
    "    embarked_locs = dataSet['Embarked'].unique()\n",
    "    embarked_locs_mapping = dict(zip(embarked_locs,range(0, len(embarked_locs) + 1)))\n",
    "    dataSet['Embarked_Val'] = dataSet['Embarked'].map(embarked_locs_mapping).astype(int)\n",
    "    #用众数替换目的地的缺失值\n",
    "    if len(dataSet[dataSet['Embarked'].isnull()] > 0):\n",
    "        dataSet.replace({'Embarked_Val' : \n",
    "                   { embarked_locs_mapping[np.nan] : embarked_locs_mapping['S']}\n",
    "               },inplace=True)\n",
    "    #转化成onehot类型    \n",
    "#     embarked_val = transOnehot(dataSet,'Embarked_Val')\n",
    "#     dataSet['Embarked_Val_0']  = embarked_val[:,0]\n",
    "#     dataSet['Embarked_Val_1']  = embarked_val[:,1]\n",
    "#     dataSet['Embarked_Val_2']  = embarked_val[:,2]\n",
    "    \n",
    "    \n",
    "    #用众数(考虑性别和等级）替换缺失的Age值\n",
    "    dataSet['AgeFill'] = dataSet['Age']\n",
    "    dataSet['AgeFill'] = dataSet['AgeFill'] \\\n",
    "                        .groupby([dataSet['Sex_Val'], dataSet['Pclass']]) \\\n",
    "                        .apply(lambda x: x.fillna(x.median()))\n",
    "    dataSet['AgeFill'] = dataSet['AgeFill'] - dataSet['AgeFill'].min()\n",
    "    dit = dataSet['AgeFill'].max() - dataSet['AgeFill'].min()\n",
    "    dataSet['AgeFill'] = dataSet['AgeFill']/dit\n",
    "    \n",
    "    #剔除用不到的特征\n",
    "#     dataSet = dataSet.drop(['Name','Sex','Age','SibSp','Parch','Ticket','Fare','Cabin','Embarked','Cabin','Title','PassengerId','Title_Val','Embarked_Val'], axis=1)\n",
    "    dataSet = dataSet.drop(['Name','Sex','Age','SibSp','Parch','Ticket','Fare','Cabin','Embarked','Cabin','Title','PassengerId'], axis=1)\n",
    "    if change_survived:\n",
    "        dataSet['Survived_End'] = dataSet['Survived']\n",
    "        dataSet = dataSet.drop(['Survived'], axis=1)\n",
    "        \n",
    "#     dataSet_modify = dataSet.values\n",
    "    #对数据进行归一化\n",
    "    dataSet_modify = dataSet.values\n",
    "    return dataSet_modify"
   ]
  },
  {
   "cell_type": "code",
   "execution_count": 4,
   "metadata": {},
   "outputs": [],
   "source": [
    "trainSet= deal_data(df_train,change_survived=True)    #shape = (?,9)\n",
    "testSet = deal_data(df_test,change_survived=False)    #shape = (?,8)"
   ]
  },
  {
   "cell_type": "code",
   "execution_count": 5,
   "metadata": {},
   "outputs": [
    {
     "data": {
      "text/plain": [
       "(891, 9)"
      ]
     },
     "execution_count": 5,
     "metadata": {},
     "output_type": "execute_result"
    }
   ],
   "source": [
    "trainSet.shape"
   ]
  },
  {
   "cell_type": "code",
   "execution_count": 6,
   "metadata": {},
   "outputs": [],
   "source": [
    "#留出法\n",
    "def hold_out(dataSet,train_size):\n",
    "    \"\"\"\n",
    "    dataSet:数据集\n",
    "    train_size:留出法中训练集所占得比例\n",
    "    \"\"\"\n",
    "    totalLen = dataSet.shape[0]\n",
    "    len = int(totalLen * train_size)\n",
    "    index = range(totalLen)\n",
    "    index_1 = np.random.choice(index,len,replace=False)     #训练集的下标\n",
    "    index_2 = np.delete(index,index_1)                      #测试集的下标\n",
    "    train = dataSet[index_1]\n",
    "    test = dataSet[index_2]\n",
    "    return train,test"
   ]
  },
  {
   "cell_type": "code",
   "execution_count": 7,
   "metadata": {},
   "outputs": [],
   "source": [
    "#交叉验证法\n",
    "def cross_valid(dataSet,k=10):\n",
    "    \"\"\"\n",
    "    dataSet:数据集\n",
    "    k：k次交叉验证的数目\n",
    "    return : datasets：shape(k,num,feature)  list类型\n",
    "    \"\"\"\n",
    "    datasets =[]\n",
    "    num = int(dataSet.shape[0]/k)\n",
    "    start = 0\n",
    "    end = num\n",
    "    for i in range(k):\n",
    "        datasets.append(dataSet[start:end,:].tolist())\n",
    "        start += num\n",
    "        end += num\n",
    "    return datasets"
   ]
  },
  {
   "cell_type": "code",
   "execution_count": 8,
   "metadata": {},
   "outputs": [],
   "source": [
    "#自助法\n",
    "def bootstrapping(dataSet):\n",
    "    m = dataSet.shape[0]\n",
    "    index1 = []\n",
    "    index2 = []\n",
    "    for i in range(m):\n",
    "        index1.append(np.random.randint(m))\n",
    "    index2 = np.delete(range(m),index1)\n",
    "    train = dataSet[index1]\n",
    "    test = dataSet[index2]\n",
    "    return train,test"
   ]
  },
  {
   "cell_type": "code",
   "execution_count": 9,
   "metadata": {},
   "outputs": [],
   "source": [
    "def sigmoid(X):\n",
    "    return 1/(1 + np.exp(-X))"
   ]
  },
  {
   "cell_type": "code",
   "execution_count": 10,
   "metadata": {},
   "outputs": [],
   "source": [
    "def grad(X,Y,learning_rate = 0.01,iter_size = 50):\n",
    "    \"\"\"\n",
    "    X:输入数据，shape：（样本数目，特征数目）\n",
    "    Y:标签，shape：（样本数目，1）\n",
    "    weithts：权重，shape：（特征数目，1）\n",
    "    learning_rate:学习率\n",
    "    \"\"\"\n",
    "    Y = Y.reshape([-1,1])\n",
    "    n = X.shape[1] \n",
    "    weights = np.ones([n,1])\n",
    "    for i in range(iter_size):\n",
    "        A = np.dot(X ,weights)\n",
    "        G = sigmoid(A) - Y\n",
    "        weights = weights - learning_rate * np.dot(X.T , G)\n",
    "    return weights"
   ]
  },
  {
   "cell_type": "code",
   "execution_count": 11,
   "metadata": {},
   "outputs": [],
   "source": [
    "def logistic(dataSet,learning_rate = 0.01,iter_size = 50):\n",
    "    X = dataSet[:,:-1]\n",
    "    Y = dataSet[:,-1]\n",
    "    weights = grad(X,Y,learning_rate,iter_size)\n",
    "    return weights"
   ]
  },
  {
   "cell_type": "code",
   "execution_count": 12,
   "metadata": {},
   "outputs": [],
   "source": [
    "def predict(dataSet,testSet,learning_rate,iter_size,node = 0.5):\n",
    "    weights = logistic(dataSet,learning_rate,iter_size)\n",
    "    predicts = sigmoid(np.dot(testSet,weights)).reshape(-1)\n",
    "    for i in range(len(predicts)):\n",
    "        if(predicts[i] > node):\n",
    "            predicts[i] = 1\n",
    "        else:\n",
    "            predicts[i] = 0\n",
    "    return predicts.astype(int)"
   ]
  },
  {
   "cell_type": "code",
   "execution_count": 13,
   "metadata": {},
   "outputs": [],
   "source": [
    "def information(predicts,y):\n",
    "    TP = 0\n",
    "    FP = 0\n",
    "    TN = 0\n",
    "    FN = 0\n",
    "    for i in range(len(predicts)):\n",
    "        if(predicts[i] == 1):\n",
    "            if(y[i] == 1):\n",
    "                TP += 1\n",
    "            else:\n",
    "                FP += 1\n",
    "        else:\n",
    "            if(y[i] == 1):\n",
    "                FN += 1\n",
    "            else:\n",
    "                TN += 1\n",
    "    return TP,FP,TN,FN"
   ]
  },
  {
   "cell_type": "code",
   "execution_count": 14,
   "metadata": {},
   "outputs": [],
   "source": [
    "#准确率\n",
    "def getAccuracy(predicts,y):\n",
    "    return(predicts == y).sum()/len(y)"
   ]
  },
  {
   "cell_type": "code",
   "execution_count": 15,
   "metadata": {},
   "outputs": [],
   "source": [
    "#精确率\n",
    "def getPrecision(predicts,y):\n",
    "    TP,FP,TN,FN = information(predicts,y)\n",
    "    precision = TP/(TP + FP)\n",
    "    return precision"
   ]
  },
  {
   "cell_type": "code",
   "execution_count": 16,
   "metadata": {},
   "outputs": [],
   "source": [
    "#召回率\n",
    "def getRecall(predicts,y):\n",
    "    TP,FP,TN,FN = information(predicts,y)\n",
    "    recall = TP/(TP + FN)\n",
    "    return recall"
   ]
  },
  {
   "cell_type": "code",
   "execution_count": 17,
   "metadata": {},
   "outputs": [],
   "source": [
    "def getF1Score(predicts,y):\n",
    "    predicision = getPrecision(predicts,y)\n",
    "    recall = getRecall(predicts,y)\n",
    "    F1Score =2 * predicision * recall/(predicision + recall)\n",
    "    return F1Score"
   ]
  },
  {
   "cell_type": "code",
   "execution_count": 18,
   "metadata": {},
   "outputs": [],
   "source": [
    "def getRocAndAuc(dataSet,testSet,learning_rate,iter_size):\n",
    "    testX = testSet[:,:-1]\n",
    "    testY = testSet[:,-1]\n",
    "    weights = logistic(dataSet,learning_rate,iter_size)\n",
    "    predicts = sigmoid(np.dot(testX,weights)).reshape(-1)\n",
    "    unique = set(predicts)\n",
    "    x = []\n",
    "    y = []\n",
    "    for predict in predicts:\n",
    "        z = []\n",
    "        for i in range(len(predicts)):\n",
    "            if(predicts[i] > predict):\n",
    "                z.append(1)\n",
    "            else:\n",
    "                z.append(0)\n",
    "        TP,FP,TN,FN = information(z,testY)\n",
    "        y.append(TP/(TP + FN))\n",
    "        x.append(FP/(TN + FP))\n",
    "    \n",
    "    x = np.array(x)\n",
    "    y = np.array(y)\n",
    "    index = np.argsort(x)\n",
    "    x = x[index]\n",
    "    y = y[index]\n",
    "    AUC = 0\n",
    "    for i in range(len(x) - 1):\n",
    "        AUC += (x[i+1] - x[i]) * (y[i] + y[i+1]) /2\n",
    "    plt.plot(x,y)\n",
    "    plt.xlabel(\"假正例率\",fontproperties = 'SimHei',fontsize = 15)\n",
    "    plt.ylabel(\"真正例率\",fontproperties = 'SimHei',fontsize = 15)\n",
    "    plt.title(\"ROC曲线\",fontproperties = 'SimHei',fontsize = 15)\n",
    "    plt.show()\n",
    "    return AUC"
   ]
  },
  {
   "cell_type": "code",
   "execution_count": 19,
   "metadata": {},
   "outputs": [],
   "source": [
    "train,test = bootstrapping(trainSet)"
   ]
  },
  {
   "cell_type": "code",
   "execution_count": 20,
   "metadata": {},
   "outputs": [],
   "source": [
    "testX = test[:,:-1]\n",
    "testY = test[:,-1]"
   ]
  },
  {
   "cell_type": "code",
   "execution_count": 52,
   "metadata": {},
   "outputs": [],
   "source": [
    "predicts = predict(train,testX,0.001,100,0.5)"
   ]
  },
  {
   "cell_type": "code",
   "execution_count": 53,
   "metadata": {},
   "outputs": [
    {
     "name": "stdout",
     "output_type": "stream",
     "text": [
      "F1Score 0.719298245614035\n",
      "accuracy: 0.8054711246200608\n",
      "precison: 0.7522935779816514\n",
      "recall: 0.6890756302521008\n"
     ]
    }
   ],
   "source": [
    "accuracy = getAccuracy(predicts,testY)\n",
    "precision = getPrecision(predicts,testY)\n",
    "recall = getRecall(predicts,testY)\n",
    "F1Score = getF1Score(predicts,testY)\n",
    "print(\"F1Score\",F1Score)\n",
    "print(\"accuracy:\",accuracy)\n",
    "print(\"precison:\",precision)\n",
    "print(\"recall:\",recall)"
   ]
  },
  {
   "cell_type": "code",
   "execution_count": 54,
   "metadata": {},
   "outputs": [
    {
     "data": {
      "image/png": "[encoded data removed]",
      "text/plain": [
       "<Figure size 432x288 with 1 Axes>"
      ]
     },
     "metadata": {},
     "output_type": "display_data"
    }
   ],
   "source": [
    "AUC = getRocAndAuc(train,test,0.001,200)"
   ]
  },
  {
   "cell_type": "code",
   "execution_count": 55,
   "metadata": {},
   "outputs": [
    {
     "data": {
      "text/plain": [
       "0.8520208083233292"
      ]
     },
     "execution_count": 55,
     "metadata": {},
     "output_type": "execute_result"
    }
   ],
   "source": [
    "AUC"
   ]
  },
  {
   "cell_type": "code",
   "execution_count": 56,
   "metadata": {},
   "outputs": [
    {
     "data": {
      "image/png": "[encoded data removed]",
      "text/plain": [
       "<Figure size 432x288 with 1 Axes>"
      ]
     },
     "metadata": {},
     "output_type": "display_data"
    }
   ],
   "source": [
    "AUC = getRocAndAuc(train,test,0.001,100)"
   ]
  },
  {
   "cell_type": "code",
   "execution_count": 51,
   "metadata": {},
   "outputs": [
    {
     "data": {
      "text/plain": [
       "0.8526810724289714"
      ]
     },
     "execution_count": 51,
     "metadata": {},
     "output_type": "execute_result"
    }
   ],
   "source": [
    "AUC"
   ]
  },
  {
   "cell_type": "code",
   "execution_count": 57,
   "metadata": {},
   "outputs": [],
   "source": [
    "result = predict(trainSet,testSet,0.001,100,0.5)"
   ]
  },
  {
   "cell_type": "code",
   "execution_count": 58,
   "metadata": {},
   "outputs": [],
   "source": [
    "df_test['Survived'] = result\n",
    "df_test[['PassengerId','Survived']].to_csv('results-rf2.csv',index=False)"
   ]
  },
  {
   "cell_type": "code",
   "execution_count": null,
   "metadata": {},
   "outputs": [],
   "source": []
  }
 ],
 "metadata": {
  "kernelspec": {
   "display_name": "Python 3",
   "language": "python",
   "name": "python3"
  },
  "language_info": {
   "codemirror_mode": {
    "name": "ipython",
    "version": 3
   },
   "file_extension": ".py",
   "mimetype": "text/x-python",
   "name": "python",
   "nbconvert_exporter": "python",
   "pygments_lexer": "ipython3",
   "version": "3.7.2"
  }
 },
 "nbformat": 4,
 "nbformat_minor": 2
}
