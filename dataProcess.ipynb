{
 "cells": [
  {
   "cell_type": "code",
   "execution_count": null,
   "metadata": {},
   "outputs": [],
   "source": [
    "import pandas as pd\n",
    "import numpy as np\n",
    "import matplotlib.pyplot as plt"
   ]
  },
  {
   "cell_type": "code",
   "execution_count": null,
   "metadata": {},
   "outputs": [],
   "source": [
    "def norm(datasets,str):\n",
    "    '''\n",
    "    归一化数据\n",
    "    Inputs:\n",
    "    -datasets:数据集\n",
    "    -str:要处理的数据特征\n",
    "    '''\n",
    "    sample_mean = datasets[str].mean()\n",
    "    sample_std = datasets[str].std()\n",
    "    datasets[str] = (datasets[str] - sample_mean)/sample_std\n",
    "    "
   ]
  },
  {
   "cell_type": "code",
   "execution_count": null,
   "metadata": {},
   "outputs": [],
   "source": [
    "def getSeveralAtt(datasets,str,num):\n",
    "    '''\n",
    "    从数据中提取出ｎｕｍ个属性结点(等深提取)\n",
    "    Inputs:\n",
    "    -datasets:数据集\n",
    "    -str:属性名称\n",
    "    -num:要提取出来的个数\n",
    "    \n",
    "    Outputs:\n",
    "    -att:从数据及中提取出的属性结点\n",
    "    '''\n",
    "    if num == None:\n",
    "        att = list(set(datasets[str]))\n",
    "        return att\n",
    "    att = []\n",
    "    dataList = list(datasets[str])\n",
    "    dis = int(len(dataList)/num)\n",
    "    dataList.sort()\n",
    "    for i in range(num):\n",
    "        att.append(dataList[i*dis - 1])\n",
    "    att = list(set(att))\n",
    "    return att"
   ]
  },
  {
   "cell_type": "code",
   "execution_count": null,
   "metadata": {},
   "outputs": [],
   "source": [
    "def transOnehot(dataSet,index):\n",
    "    length = len(dataSet)\n",
    "    max = dataSet[index].max().astype(int)\n",
    "    result = []\n",
    "    for number in dataSet[index]:\n",
    "        zero = np.zeros(max + 1)\n",
    "        zero[int(number)] = 1\n",
    "        result.append(zero.tolist())\n",
    "    return np.array(result)"
   ]
  }
 ],
 "metadata": {
  "kernelspec": {
   "display_name": "Python 3",
   "language": "python",
   "name": "python3"
  },
  "language_info": {
   "codemirror_mode": {
    "name": "ipython",
    "version": 3
   },
   "file_extension": ".py",
   "mimetype": "text/x-python",
   "name": "python",
   "nbconvert_exporter": "python",
   "pygments_lexer": "ipython3",
   "version": "3.7.2"
  }
 },
 "nbformat": 4,
 "nbformat_minor": 2
}
