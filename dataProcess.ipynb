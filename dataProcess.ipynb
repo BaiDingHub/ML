{
 "cells": [
  {
   "cell_type": "code",
   "execution_count": null,
   "metadata": {},
   "outputs": [],
   "source": [
    "import pandas as pd\n",
    "import numpy as np\n",
    "import matplotlib.pyplot as plt"
   ]
  },
  {
   "cell_type": "code",
   "execution_count": null,
   "metadata": {},
   "outputs": [],
   "source": [
    "def norm(datasets,str):\n",
    "    '''\n",
    "    归一化数据\n",
    "    Inputs:\n",
    "    -datasets:数据集\n",
    "    -str:要处理的数据特征\n",
    "    '''\n",
    "    sample_mean = datasets[str].mean()\n",
    "    sample_std = datasets[str].std()\n",
    "    datasets[str] = (datasets[str] - sample_mean)/sample_std\n",
    "    "
   ]
  },
  {
   "cell_type": "code",
   "execution_count": null,
   "metadata": {},
   "outputs": [],
   "source": [
    "def getSeveralAtt(datasets,str,num):\n",
    "    '''\n",
    "    从数据中提取出ｎｕｍ个属性结点(等深提取)\n",
    "    Inputs:\n",
    "    -datasets:数据集\n",
    "    -str:属性名称\n",
    "    -num:要提取出来的个数\n",
    "    \n",
    "    Outputs:\n",
    "    -att:从数据及中提取出的属性结点\n",
    "    '''\n",
    "    if num == None:\n",
    "        att = list(set(datasets[str]))\n",
    "        return att\n",
    "    att = []\n",
    "    dataList = list(datasets[str])\n",
    "    dis = int(len(dataList)/num)\n",
    "    dataList.sort()\n",
    "    for i in range(num):\n",
    "        att.append(dataList[i*dis - 1])\n",
    "    att = list(set(att))\n",
    "    return att"
   ]
  },
  {
   "cell_type": "code",
   "execution_count": null,
   "metadata": {},
   "outputs": [],
   "source": [
    "def transOnehot(dataSet,index):\n",
    "    '''\n",
    "    将数据转换成Onehot类型\n",
    "    '''\n",
    "    length = len(dataSet)\n",
    "    max = dataSet[index].max().astype(int)\n",
    "    result = []\n",
    "    for number in dataSet[index]:\n",
    "        zero = np.zeros(max + 1)\n",
    "        zero[int(number)] = 1\n",
    "        result.append(zero.tolist())\n",
    "    return np.array(result)"
   ]
  },
  {
   "cell_type": "code",
   "execution_count": null,
   "metadata": {},
   "outputs": [],
   "source": [
    "#留出法\n",
    "def hold_out(dataSet,train_size):\n",
    "    \"\"\"\n",
    "    dataSet:数据集\n",
    "    train_size:留出法中训练集所占得比例\n",
    "    \"\"\"\n",
    "    totalLen = dataSet.shape[0]\n",
    "    len = int(totalLen * train_size)\n",
    "    index = range(totalLen)\n",
    "    index_1 = np.random.choice(index,len,replace=False)     #训练集的下标\n",
    "    index_2 = np.delete(index,index_1)                      #测试集的下标\n",
    "    train = dataSet[index_1]\n",
    "    test = dataSet[index_2]\n",
    "    return train,test"
   ]
  },
  {
   "cell_type": "code",
   "execution_count": null,
   "metadata": {},
   "outputs": [],
   "source": [
    "#交叉验证法\n",
    "def cross_valid(dataSet,k=10):\n",
    "    \"\"\"\n",
    "    dataSet:数据集\n",
    "    k：k次交叉验证的数目\n",
    "    return : datasets：shape(k,num,feature)  list类型\n",
    "    \"\"\"\n",
    "    datasets =[]\n",
    "    num = int(dataSet.shape[0]/k)\n",
    "    start = 0\n",
    "    end = num\n",
    "    for i in range(k):\n",
    "        datasets.append(dataSet[start:end,:].tolist())\n",
    "        start += num\n",
    "        end += num\n",
    "    return datasets"
   ]
  },
  {
   "cell_type": "code",
   "execution_count": null,
   "metadata": {},
   "outputs": [],
   "source": [
    "#自助法\n",
    "def bootstrapping(dataSet):\n",
    "    m = dataSet.shape[0]\n",
    "    index1 = []\n",
    "    index2 = []\n",
    "    for i in range(m):\n",
    "        index1.append(np.random.randint(m))\n",
    "    index2 = np.delete(range(m),index1)\n",
    "    train = dataSet[index1]\n",
    "    test = dataSet[index2]\n",
    "    return train,test"
   ]
  },
  {
   "cell_type": "code",
   "execution_count": null,
   "metadata": {},
   "outputs": [],
   "source": []
  }
 ],
 "metadata": {
  "kernelspec": {
   "display_name": "Python 3",
   "language": "python",
   "name": "python3"
  },
  "language_info": {
   "codemirror_mode": {
    "name": "ipython",
    "version": 3
   },
   "file_extension": ".py",
   "mimetype": "text/x-python",
   "name": "python",
   "nbconvert_exporter": "python",
   "pygments_lexer": "ipython3",
   "version": "3.7.2"
  }
 },
 "nbformat": 4,
 "nbformat_minor": 2
}
