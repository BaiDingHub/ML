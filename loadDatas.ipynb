{
 "cells": [
  {
   "cell_type": "code",
   "execution_count": 7,
   "metadata": {},
   "outputs": [],
   "source": [
    "import pandas as pd\n",
    "import numpy as np\n",
    "import matplotlib.pyplot as plt\n",
    "from dataProcess import *"
   ]
  },
  {
   "cell_type": "code",
   "execution_count": 22,
   "metadata": {
    "code_folding": [
     0
    ]
   },
   "outputs": [],
   "source": [
    "def load_Treedatas(filename= 'diabetes.csv',nums = [None,10,None,None,10,30,50,None],trainFrac = 0.75):\n",
    "    datasets = pd.read_csv(filename)\n",
    "    datasets.sample(frac=1)   #打乱数据\n",
    "    sum = len(datasets)\n",
    "    train_num = int(sum * trainFrac)\n",
    "    X_train = datasets.values[:train_num,:-1]\n",
    "    Y_train = datasets.values[:train_num,-1]\n",
    "    X_test = datasets.values[train_num:,:-1]\n",
    "    Y_test = datasets.values[train_num:,-1]\n",
    "    dataset = datasets[:train_num]\n",
    "    \n",
    "    length = len(dataset.columns.values)\n",
    "    atts = []\n",
    "    for (i,arg) in enumerate(zip(nums,dataset.columns.values)):\n",
    "        num,str = arg\n",
    "        att = getSeveralAtt(dataset,str,num)\n",
    "        atts.append(att)\n",
    "    return X_train,Y_train,X_test,Y_test,atts"
   ]
  },
  {
   "cell_type": "code",
   "execution_count": 1,
   "metadata": {
    "code_folding": [
     0
    ]
   },
   "outputs": [],
   "source": [
    "def load_Titanicdatas(dataSet,change_survived):\n",
    "    \"\"\"处理数据\"\"\"\n",
    "    #将名字中的Mr,Mrs,Miss抽出来\n",
    "    dataSet['Title'] = dataSet['Name'].apply(lambda x:x.split(',')[1]).apply(lambda x:x.split()[0])\n",
    "    dataSet.loc[~(dataSet['Title'].isin(['Master.','Mrs.','Miss.','Master.'])),'Title_Val'] = 4\n",
    "    dataSet.loc[(dataSet['Title'].isin(['Mr.'])),'Title_Val'] = 0\n",
    "    dataSet.loc[(dataSet['Title'].isin(['Mrs.'])),'Title_Val'] = 1\n",
    "    dataSet.loc[(dataSet['Title'].isin(['Miss.'])),'Title_Val'] = 2\n",
    "    dataSet.loc[(dataSet['Title'].isin(['Master.'])),'Title_Val'] = 3\n",
    "    #转化成onehot类型   \n",
    "    title_val = transOnehot(dataSet,'Title_Val')\n",
    "    dataSet['Title_Val_0']  = title_val[:,0]\n",
    "    dataSet['Title_Val_1']  = title_val[:,1]\n",
    "    dataSet['Title_Val_2']  = title_val[:,2]\n",
    "    dataSet['Title_Val_3']  = title_val[:,3]\n",
    "    dataSet['Title_Val_4']  = title_val[:,4]\n",
    "    \n",
    "    #将性别转化成离散值Sex_Val{'male':0,'female':1}\n",
    "    sexes = dataSet['Sex'].unique()\n",
    "    genders_mapping_one = dict(zip(sexes, range(0, len(sexes) + 1)))\n",
    "    dataSet['Sex_Val'] = dataSet['Sex'].map(genders_mapping_one).astype(int)\n",
    "    \n",
    "    #将SibSp,Parch 转化成一个离散值Family\n",
    "    dataSet['FamilySize'] = dataSet['SibSp'] + dataSet['Parch']\n",
    "    #将Fare归一化\n",
    "    dataSet.loc[(dataSet['Fare'].isnull()),'Fare'] = dataSet['Fare'].median()\n",
    "    maxFare = dataSet['Fare'].max()\n",
    "    minFare = dataSet['Fare'].min()\n",
    "    dit = maxFare - minFare\n",
    "    dataSet['FareNormal'] = dataSet['Fare']/dit\n",
    "    \n",
    "    #将Cabin的有无当成一个特征Cabin_Val{'unexist':0,'exist':1}\n",
    "    dataSet.loc[ (dataSet.Cabin.notnull()), 'Cabin_Val' ] = 1\n",
    "    dataSet.loc[ (dataSet.Cabin.isnull()), 'Cabin_Val' ] = 0\n",
    "    \n",
    "     #将Embarked转化成数字Embarked_Val={'S':0,'C':1,'Q':2}\n",
    "    embarked_locs = dataSet['Embarked'].unique()\n",
    "    embarked_locs_mapping = dict(zip(embarked_locs,range(0, len(embarked_locs) + 1)))\n",
    "    dataSet['Embarked_Val'] = dataSet['Embarked'].map(embarked_locs_mapping).astype(int)\n",
    "    #用众数替换目的地的缺失值\n",
    "    if len(dataSet[dataSet['Embarked'].isnull()] > 0):\n",
    "        dataSet.replace({'Embarked_Val' : \n",
    "                   { embarked_locs_mapping[np.nan] : embarked_locs_mapping['S']}\n",
    "               },inplace=True)\n",
    "    #转化成onehot类型    \n",
    "    embarked_val = transOnehot(dataSet,'Embarked_Val')\n",
    "    dataSet['Embarked_Val_0']  = embarked_val[:,0]\n",
    "    dataSet['Embarked_Val_1']  = embarked_val[:,1]\n",
    "    dataSet['Embarked_Val_2']  = embarked_val[:,2]\n",
    "    \n",
    "    \n",
    "    #用众数(考虑性别和等级）替换缺失的Age值\n",
    "    dataSet['AgeFill'] = dataSet['Age']\n",
    "    dataSet['AgeFill'] = dataSet['AgeFill'] \\\n",
    "                        .groupby([dataSet['Sex_Val'], dataSet['Pclass']]) \\\n",
    "                        .apply(lambda x: x.fillna(x.median()))\n",
    "    dataSet['AgeFill'] = dataSet['AgeFill'] - dataSet['AgeFill'].min()\n",
    "    dit = dataSet['AgeFill'].max() - dataSet['AgeFill'].min()\n",
    "    dataSet['AgeFill'] = dataSet['AgeFill']/dit\n",
    "    \n",
    "    #剔除用不到的特征\n",
    "    dataSet = dataSet.drop(['Name','Sex','Age','SibSp','Parch','Ticket','Fare','Cabin','Embarked','Cabin','Title','PassengerId','Title_Val','Embarked_Val'], axis=1)\n",
    "#     dataSet = dataSet.drop(['Name','Sex','Age','SibSp','Parch','Ticket','Fare','Cabin','Embarked','Cabin','PassengerId'], axis=1)\n",
    "    if change_survived:\n",
    "        dataSet['Survived_End'] = dataSet['Survived']\n",
    "        dataSet = dataSet.drop(['Survived'], axis=1)\n",
    "        \n",
    "#     dataSet_modify = dataSet.values\n",
    "    #对数据进行归一化\n",
    "    dataSet_modify = dataSet.values\n",
    "    return dataSet_modify"
   ]
  },
  {
   "cell_type": "code",
   "execution_count": null,
   "metadata": {},
   "outputs": [],
   "source": [
    "def load_Lineardatas(trainFrac = 0.75):\n",
    "    '''\n",
    "    加载Titanic的数据，用于线性模型\n",
    "    '''\n",
    "    df_train = pd.read_csv(\"train.csv\")\n",
    "    trainSet= load_Titanicdatas(df_train,change_survived=True)    #shape = (?,9)\n",
    "    num = trainSet.shape[0]\n",
    "    num1 = int(num * trainFrac)\n",
    "    X_train = trainSet[:num1,:-1]\n",
    "    Y_train = trainSet[:num1,-1]\n",
    "    X_test = trainSet[num1:,:-1]\n",
    "    Y_test = trainSet[num1:,-1]\n",
    "    return X_train,Y_train,X_test,Y_test"
   ]
  }
 ],
 "metadata": {
  "kernelspec": {
   "display_name": "Python 3",
   "language": "python",
   "name": "python3"
  },
  "language_info": {
   "codemirror_mode": {
    "name": "ipython",
    "version": 3
   },
   "file_extension": ".py",
   "mimetype": "text/x-python",
   "name": "python",
   "nbconvert_exporter": "python",
   "pygments_lexer": "ipython3",
   "version": "3.7.2"
  }
 },
 "nbformat": 4,
 "nbformat_minor": 2
}
