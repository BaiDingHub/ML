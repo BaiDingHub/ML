{
 "cells": [
  {
   "cell_type": "code",
   "execution_count": null,
   "metadata": {},
   "outputs": [],
   "source": [
    "import numpy as np\n",
    "import pandas as pd\n",
    "import matplotlib.pyplot as plt\n",
    "from loadDatas import *\n",
    "import Model "
   ]
  },
  {
   "cell_type": "markdown",
   "metadata": {
    "heading_collapsed": true
   },
   "source": [
    "## 决策树"
   ]
  },
  {
   "cell_type": "code",
   "execution_count": null,
   "metadata": {
    "hidden": true
   },
   "outputs": [],
   "source": [
    "X_train,Y_train,X_test,Y_test,atts = load_Treedatas()"
   ]
  },
  {
   "cell_type": "code",
   "execution_count": null,
   "metadata": {
    "hidden": true
   },
   "outputs": [],
   "source": [
    "#预剪枝操作\n",
    "#model = Model.DecisonTree(preCut = True)\n",
    "model = Model.DecisionTree()\n",
    "model.buildTree(X_train,Y_train,atts)\n",
    "#后剪枝\n",
    "model.afterCut(X_test,Y_test)  "
   ]
  },
  {
   "cell_type": "code",
   "execution_count": null,
   "metadata": {
    "hidden": true
   },
   "outputs": [],
   "source": [
    "pre,score = model.predict(X_test,Y_test)\n",
    "print('Decision score is',score)"
   ]
  },
  {
   "cell_type": "markdown",
   "metadata": {
    "heading_collapsed": true
   },
   "source": [
    "## 线性模型"
   ]
  },
  {
   "cell_type": "code",
   "execution_count": null,
   "metadata": {
    "hidden": true
   },
   "outputs": [],
   "source": [
    "X_train,Y_train,X_test,Y_test = load_Lineardatas()"
   ]
  },
  {
   "cell_type": "code",
   "execution_count": null,
   "metadata": {
    "hidden": true
   },
   "outputs": [],
   "source": [
    "#model = Model.SVM()\n",
    "model = Model.Logistic()"
   ]
  },
  {
   "cell_type": "code",
   "execution_count": null,
   "metadata": {
    "hidden": true
   },
   "outputs": [],
   "source": [
    "loss_history,acc_histroy = model.train(X_train,Y_train.astype('int'),2,epoch = 100000,lr= 1e-8,\n",
    "                                       activation_function='sigmoid',printFreq = 2000,batch_size = 200)"
   ]
  },
  {
   "cell_type": "code",
   "execution_count": null,
   "metadata": {
    "hidden": true
   },
   "outputs": [],
   "source": [
    "score,acc = model.predict(X_test,Y_test)"
   ]
  },
  {
   "cell_type": "code",
   "execution_count": null,
   "metadata": {
    "hidden": true
   },
   "outputs": [],
   "source": [
    "acc"
   ]
  },
  {
   "cell_type": "code",
   "execution_count": null,
   "metadata": {
    "hidden": true
   },
   "outputs": [],
   "source": [
    "plt.plot(loss_history)\n",
    "plt.show()"
   ]
  },
  {
   "cell_type": "code",
   "execution_count": null,
   "metadata": {
    "hidden": true
   },
   "outputs": [],
   "source": [
    "plt.plot(acc_histroy)\n",
    "plt.show()"
   ]
  },
  {
   "cell_type": "markdown",
   "metadata": {},
   "source": [
    "## 随机森林"
   ]
  },
  {
   "cell_type": "code",
   "execution_count": 2,
   "metadata": {},
   "outputs": [],
   "source": [
    "X_train,Y_train,X_test,Y_test,atts = load_Treedatas()"
   ]
  },
  {
   "cell_type": "code",
   "execution_count": 3,
   "metadata": {},
   "outputs": [],
   "source": [
    "treeModel = Model.DecisionTree\n",
    "model = Model.RandomForest(treeModel,7)"
   ]
  },
  {
   "cell_type": "code",
   "execution_count": 4,
   "metadata": {},
   "outputs": [
    {
     "name": "stderr",
     "output_type": "stream",
     "text": [
      "/home/yz/Desktop/study/github/ML/Model.py:196: RuntimeWarning: invalid value encountered in double_scalars\n",
      "  p1 = num1/num\n",
      "/home/yz/Desktop/study/github/ML/Model.py:197: RuntimeWarning: invalid value encountered in double_scalars\n",
      "  p2 = num2/num\n",
      "/home/yz/Desktop/study/github/ML/Model.py:199: RuntimeWarning: divide by zero encountered in log\n",
      "  E = -(p1 * np.log(p1) + p2 * np.log(p2))\n",
      "/home/yz/Desktop/study/github/ML/Model.py:199: RuntimeWarning: invalid value encountered in double_scalars\n",
      "  E = -(p1 * np.log(p1) + p2 * np.log(p2))\n",
      "/home/yz/Desktop/study/github/ML/Model.py:254: RuntimeWarning: invalid value encountered in long_scalars\n",
      "  acc = np.sum(tree.values == tree.index)/len(tree.values)\n",
      "/home/yz/Desktop/study/github/ML/Model.py:256: RuntimeWarning: invalid value encountered in long_scalars\n",
      "  np.sum(tree.rightNode.values == tree.rightNode.index))/len(tree.values)\n"
     ]
    }
   ],
   "source": [
    "model.train(X_train,Y_train,atts)"
   ]
  },
  {
   "cell_type": "code",
   "execution_count": 5,
   "metadata": {},
   "outputs": [],
   "source": [
    "score,acc = model.predict(X_test,Y_test)"
   ]
  },
  {
   "cell_type": "code",
   "execution_count": 6,
   "metadata": {},
   "outputs": [
    {
     "name": "stdout",
     "output_type": "stream",
     "text": [
      "RandomForest accuracy is 0.765625\n"
     ]
    }
   ],
   "source": [
    "print('RandomForest accuracy is' ,acc)"
   ]
  },
  {
   "cell_type": "code",
   "execution_count": null,
   "metadata": {},
   "outputs": [],
   "source": []
  }
 ],
 "metadata": {
  "kernelspec": {
   "display_name": "Python 3",
   "language": "python",
   "name": "python3"
  },
  "language_info": {
   "codemirror_mode": {
    "name": "ipython",
    "version": 3
   },
   "file_extension": ".py",
   "mimetype": "text/x-python",
   "name": "python",
   "nbconvert_exporter": "python",
   "pygments_lexer": "ipython3",
   "version": "3.7.2"
  }
 },
 "nbformat": 4,
 "nbformat_minor": 2
}
