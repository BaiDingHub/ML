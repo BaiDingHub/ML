{
 "cells": [
  {
   "cell_type": "code",
   "execution_count": 1,
   "metadata": {},
   "outputs": [],
   "source": [
    "import numpy as np\n",
    "import pandas as pd\n",
    "import matplotlib.pyplot as plt\n",
    "from loadDatas import *\n",
    "import Model "
   ]
  },
  {
   "cell_type": "markdown",
   "metadata": {
    "heading_collapsed": true
   },
   "source": [
    "## 决策树"
   ]
  },
  {
   "cell_type": "code",
   "execution_count": null,
   "metadata": {
    "hidden": true
   },
   "outputs": [],
   "source": [
    "X_train,Y_train,X_test,Y_test,atts = load_Treedatas()"
   ]
  },
  {
   "cell_type": "code",
   "execution_count": null,
   "metadata": {
    "hidden": true
   },
   "outputs": [],
   "source": [
    "#预剪枝操作\n",
    "#model = Model.DecisonTree(preCut = True)\n",
    "model = Model.DecisionTree()\n",
    "model.bulidTree(X_train,Y_train,atts)\n",
    "#后剪枝\n",
    "model.afterCut(X_test,Y_test)  "
   ]
  },
  {
   "cell_type": "code",
   "execution_count": null,
   "metadata": {
    "hidden": true
   },
   "outputs": [],
   "source": [
    "pre,score = model.predict(X_test,Y_test)\n",
    "print('Decision score is',score)"
   ]
  },
  {
   "cell_type": "markdown",
   "metadata": {},
   "source": [
    "## 线性模型"
   ]
  },
  {
   "cell_type": "code",
   "execution_count": 2,
   "metadata": {},
   "outputs": [],
   "source": [
    "X_train,Y_train,X_test,Y_test = load_Lineardatas()"
   ]
  },
  {
   "cell_type": "code",
   "execution_count": null,
   "metadata": {},
   "outputs": [],
   "source": [
    "X_train.shape"
   ]
  },
  {
   "cell_type": "code",
   "execution_count": 30,
   "metadata": {},
   "outputs": [],
   "source": [
    "model = Model.SVM()"
   ]
  },
  {
   "cell_type": "code",
   "execution_count": 31,
   "metadata": {},
   "outputs": [
    {
     "name": "stdout",
     "output_type": "stream",
     "text": [
      "epoch  666 | 100000 \t acc =  0.335 \tloss =  1.0000010022659225\n",
      "epoch  1333 | 100000 \t acc =  0.53 \tloss =  1.0000004003509282\n",
      "epoch  1999 | 100000 \t acc =  0.56 \tloss =  1.00000032920107\n",
      "epoch  2666 | 100000 \t acc =  0.55 \tloss =  1.0000002738722282\n",
      "epoch  3333 | 100000 \t acc =  0.545 \tloss =  0.9999999990213463\n",
      "epoch  3999 | 100000 \t acc =  0.55 \tloss =  0.9999998027629701\n",
      "epoch  4666 | 100000 \t acc =  0.545 \tloss =  0.9999999629294627\n",
      "epoch  5333 | 100000 \t acc =  0.54 \tloss =  0.999999685221106\n",
      "epoch  5999 | 100000 \t acc =  0.62 \tloss =  0.9999985928095221\n",
      "epoch  6666 | 100000 \t acc =  0.63 \tloss =  0.9999986242586583\n",
      "epoch  7333 | 100000 \t acc =  0.615 \tloss =  0.9999977890226925\n",
      "epoch  7999 | 100000 \t acc =  0.58 \tloss =  0.9999987717188944\n",
      "epoch  8666 | 100000 \t acc =  0.545 \tloss =  0.9999989606099666\n",
      "epoch  9333 | 100000 \t acc =  0.635 \tloss =  0.9999971133852021\n",
      "epoch  9999 | 100000 \t acc =  0.55 \tloss =  0.9999987474113976\n",
      "epoch  10666 | 100000 \t acc =  0.565 \tloss =  0.9999980943128409\n",
      "epoch  11333 | 100000 \t acc =  0.62 \tloss =  0.9999965931559445\n",
      "epoch  11999 | 100000 \t acc =  0.605 \tloss =  0.9999963512268473\n",
      "epoch  12666 | 100000 \t acc =  0.64 \tloss =  0.999995059717221\n",
      "epoch  13333 | 100000 \t acc =  0.635 \tloss =  0.9999951338350122\n",
      "epoch  13999 | 100000 \t acc =  0.615 \tloss =  0.9999956081237462\n",
      "epoch  14666 | 100000 \t acc =  0.605 \tloss =  0.999995168366601\n",
      "epoch  15333 | 100000 \t acc =  0.585 \tloss =  0.9999959773092257\n",
      "epoch  15999 | 100000 \t acc =  0.615 \tloss =  0.9999943831220673\n",
      "epoch  16666 | 100000 \t acc =  0.545 \tloss =  0.9999969676580848\n",
      "epoch  17333 | 100000 \t acc =  0.6 \tloss =  0.9999952150398316\n",
      "epoch  17999 | 100000 \t acc =  0.61 \tloss =  0.999993880699933\n",
      "epoch  18666 | 100000 \t acc =  0.575 \tloss =  0.9999958238071752\n",
      "epoch  19333 | 100000 \t acc =  0.615 \tloss =  0.9999934373301608\n",
      "epoch  19999 | 100000 \t acc =  0.605 \tloss =  0.9999933031124383\n",
      "epoch  20666 | 100000 \t acc =  0.655 \tloss =  0.9999910697644347\n",
      "epoch  21333 | 100000 \t acc =  0.525 \tloss =  0.9999969618633395\n",
      "epoch  21999 | 100000 \t acc =  0.65 \tloss =  0.9999902592987481\n",
      "epoch  22666 | 100000 \t acc =  0.685 \tloss =  0.9999890012082082\n",
      "epoch  23333 | 100000 \t acc =  0.64 \tloss =  0.9999900247321869\n",
      "epoch  23999 | 100000 \t acc =  0.56 \tloss =  0.9999944676723829\n",
      "epoch  24666 | 100000 \t acc =  0.645 \tloss =  0.9999889250510637\n",
      "epoch  25333 | 100000 \t acc =  0.65 \tloss =  0.9999894796276644\n",
      "epoch  25999 | 100000 \t acc =  0.62 \tloss =  0.999990246931794\n",
      "epoch  26666 | 100000 \t acc =  0.68 \tloss =  0.9999862825535893\n",
      "epoch  27333 | 100000 \t acc =  0.605 \tloss =  0.9999905543851983\n",
      "epoch  27999 | 100000 \t acc =  0.585 \tloss =  0.9999923860553152\n",
      "epoch  28666 | 100000 \t acc =  0.66 \tloss =  0.9999864284316382\n",
      "epoch  29333 | 100000 \t acc =  0.63 \tloss =  0.9999885524373547\n",
      "epoch  29999 | 100000 \t acc =  0.6 \tloss =  0.9999906183160016\n",
      "epoch  30666 | 100000 \t acc =  0.655 \tloss =  0.9999855873800899\n",
      "epoch  31333 | 100000 \t acc =  0.59 \tloss =  0.9999901539125123\n",
      "epoch  31999 | 100000 \t acc =  0.625 \tloss =  0.9999873355467994\n",
      "epoch  32666 | 100000 \t acc =  0.745 \tloss =  0.9999780128955865\n",
      "epoch  33333 | 100000 \t acc =  0.61 \tloss =  0.9999879271450215\n",
      "epoch  33999 | 100000 \t acc =  0.665 \tloss =  0.9999834835133495\n",
      "epoch  34666 | 100000 \t acc =  0.615 \tloss =  0.999987054198221\n",
      "epoch  35333 | 100000 \t acc =  0.565 \tloss =  0.999991382542472\n",
      "epoch  35999 | 100000 \t acc =  0.6 \tloss =  0.9999868398878311\n",
      "epoch  36666 | 100000 \t acc =  0.57 \tloss =  0.9999883854582652\n",
      "epoch  37333 | 100000 \t acc =  0.635 \tloss =  0.9999844145512153\n",
      "epoch  37999 | 100000 \t acc =  0.625 \tloss =  0.9999855831079565\n",
      "epoch  38666 | 100000 \t acc =  0.615 \tloss =  0.9999844563058495\n",
      "epoch  39333 | 100000 \t acc =  0.645 \tloss =  0.999981360275948\n",
      "epoch  39999 | 100000 \t acc =  0.585 \tloss =  0.9999883845287707\n",
      "epoch  40666 | 100000 \t acc =  0.65 \tloss =  0.9999819238717536\n",
      "epoch  41333 | 100000 \t acc =  0.53 \tloss =  0.9999923290956844\n",
      "epoch  41999 | 100000 \t acc =  0.605 \tloss =  0.9999846105474778\n",
      "epoch  42666 | 100000 \t acc =  0.61 \tloss =  0.9999836308515105\n",
      "epoch  43333 | 100000 \t acc =  0.58 \tloss =  0.9999859189592434\n",
      "epoch  43999 | 100000 \t acc =  0.565 \tloss =  0.9999883858922548\n",
      "epoch  44666 | 100000 \t acc =  0.65 \tloss =  0.9999793372345142\n",
      "epoch  45333 | 100000 \t acc =  0.64 \tloss =  0.9999797673976141\n",
      "epoch  45999 | 100000 \t acc =  0.59 \tloss =  0.9999848485635716\n",
      "epoch  46666 | 100000 \t acc =  0.6 \tloss =  0.9999830460589618\n",
      "epoch  47333 | 100000 \t acc =  0.57 \tloss =  0.9999861126693804\n",
      "epoch  47999 | 100000 \t acc =  0.65 \tloss =  0.9999783207250311\n",
      "epoch  48666 | 100000 \t acc =  0.63 \tloss =  0.9999788412235426\n",
      "epoch  49333 | 100000 \t acc =  0.59 \tloss =  0.9999838254593288\n",
      "epoch  49999 | 100000 \t acc =  0.65 \tloss =  0.9999747738033079\n",
      "epoch  50666 | 100000 \t acc =  0.61 \tloss =  0.9999791653397869\n",
      "epoch  51333 | 100000 \t acc =  0.57 \tloss =  0.9999870490265533\n",
      "epoch  51999 | 100000 \t acc =  0.6 \tloss =  0.9999813600791885\n",
      "epoch  52666 | 100000 \t acc =  0.61 \tloss =  0.9999802225417613\n",
      "epoch  53333 | 100000 \t acc =  0.66 \tloss =  0.9999725309937267\n",
      "epoch  53999 | 100000 \t acc =  0.635 \tloss =  0.999976740244505\n",
      "epoch  54666 | 100000 \t acc =  0.595 \tloss =  0.9999812572269939\n",
      "epoch  55333 | 100000 \t acc =  0.625 \tloss =  0.9999775250107432\n",
      "epoch  55999 | 100000 \t acc =  0.65 \tloss =  0.9999754574775753\n",
      "epoch  56666 | 100000 \t acc =  0.615 \tloss =  0.999978495621107\n",
      "epoch  57333 | 100000 \t acc =  0.625 \tloss =  0.9999768232388324\n",
      "epoch  57999 | 100000 \t acc =  0.565 \tloss =  0.9999843564772505\n",
      "epoch  58666 | 100000 \t acc =  0.585 \tloss =  0.9999818429271534\n",
      "epoch  59333 | 100000 \t acc =  0.53 \tloss =  0.9999889002589888\n",
      "epoch  59999 | 100000 \t acc =  0.57 \tloss =  0.9999818202382187\n",
      "epoch  60666 | 100000 \t acc =  0.605 \tloss =  0.9999764037187883\n",
      "epoch  61333 | 100000 \t acc =  0.635 \tloss =  0.999973884790964\n",
      "epoch  61999 | 100000 \t acc =  0.645 \tloss =  0.9999715923099817\n",
      "epoch  62666 | 100000 \t acc =  0.555 \tloss =  0.999985041332435\n",
      "epoch  63333 | 100000 \t acc =  0.565 \tloss =  0.9999818844022395\n",
      "epoch  63999 | 100000 \t acc =  0.58 \tloss =  0.9999791429733187\n",
      "epoch  64666 | 100000 \t acc =  0.64 \tloss =  0.9999738185063822\n",
      "epoch  65333 | 100000 \t acc =  0.675 \tloss =  0.9999673858815075\n",
      "epoch  65999 | 100000 \t acc =  0.62 \tloss =  0.9999731678478406\n",
      "epoch  66666 | 100000 \t acc =  0.625 \tloss =  0.9999707552162039\n",
      "epoch  67333 | 100000 \t acc =  0.615 \tloss =  0.9999719005223683\n",
      "epoch  67999 | 100000 \t acc =  0.555 \tloss =  0.9999830277424447\n",
      "epoch  68666 | 100000 \t acc =  0.615 \tloss =  0.9999726908818767\n",
      "epoch  69333 | 100000 \t acc =  0.635 \tloss =  0.9999697158716159\n",
      "epoch  69999 | 100000 \t acc =  0.6 \tloss =  0.9999732242169722\n",
      "epoch  70666 | 100000 \t acc =  0.635 \tloss =  0.9999696744472694\n",
      "epoch  71333 | 100000 \t acc =  0.65 \tloss =  0.9999664556258336\n",
      "epoch  71999 | 100000 \t acc =  0.615 \tloss =  0.9999735621032069\n",
      "epoch  72666 | 100000 \t acc =  0.595 \tloss =  0.9999737560202617\n",
      "epoch  73333 | 100000 \t acc =  0.525 \tloss =  0.9999863828303742\n",
      "epoch  73999 | 100000 \t acc =  0.55 \tloss =  0.9999828528245936\n",
      "epoch  74666 | 100000 \t acc =  0.595 \tloss =  0.9999736694832444\n",
      "epoch  75333 | 100000 \t acc =  0.61 \tloss =  0.9999691667134181\n",
      "epoch  75999 | 100000 \t acc =  0.58 \tloss =  0.9999751487559536\n",
      "epoch  76666 | 100000 \t acc =  0.625 \tloss =  0.9999664818288548\n",
      "epoch  77333 | 100000 \t acc =  0.635 \tloss =  0.9999661478355284\n",
      "epoch  77999 | 100000 \t acc =  0.615 \tloss =  0.9999703839640435\n",
      "epoch  78666 | 100000 \t acc =  0.59 \tloss =  0.9999735477201884\n",
      "epoch  79333 | 100000 \t acc =  0.585 \tloss =  0.9999770041506284\n",
      "epoch  79999 | 100000 \t acc =  0.6 \tloss =  0.9999716341851763\n",
      "epoch  80666 | 100000 \t acc =  0.655 \tloss =  0.999959724549591\n",
      "epoch  81333 | 100000 \t acc =  0.61 \tloss =  0.999970975935734\n",
      "epoch  81999 | 100000 \t acc =  0.59 \tloss =  0.9999691988797952\n",
      "epoch  82666 | 100000 \t acc =  0.655 \tloss =  0.9999593508750896\n",
      "epoch  83333 | 100000 \t acc =  0.59 \tloss =  0.9999711445609133\n",
      "epoch  83999 | 100000 \t acc =  0.605 \tloss =  0.9999695648720512\n",
      "epoch  84666 | 100000 \t acc =  0.585 \tloss =  0.9999753030809637\n",
      "epoch  85333 | 100000 \t acc =  0.58 \tloss =  0.9999718840100721\n"
     ]
    },
    {
     "name": "stdout",
     "output_type": "stream",
     "text": [
      "epoch  85999 | 100000 \t acc =  0.675 \tloss =  0.9999529960259393\n",
      "epoch  86666 | 100000 \t acc =  0.57 \tloss =  0.9999759264469763\n",
      "epoch  87333 | 100000 \t acc =  0.56 \tloss =  0.9999794597000046\n",
      "epoch  87999 | 100000 \t acc =  0.63 \tloss =  0.9999611511475166\n",
      "epoch  88666 | 100000 \t acc =  0.635 \tloss =  0.9999623136837366\n",
      "epoch  89333 | 100000 \t acc =  0.65 \tloss =  0.9999549090510733\n",
      "epoch  89999 | 100000 \t acc =  0.615 \tloss =  0.9999635835937439\n",
      "epoch  90666 | 100000 \t acc =  0.635 \tloss =  0.9999616930817982\n",
      "epoch  91333 | 100000 \t acc =  0.64 \tloss =  0.9999598862729974\n",
      "epoch  91999 | 100000 \t acc =  0.625 \tloss =  0.999960549280682\n",
      "epoch  92666 | 100000 \t acc =  0.67 \tloss =  0.9999515552445121\n",
      "epoch  93333 | 100000 \t acc =  0.605 \tloss =  0.9999655573544746\n",
      "epoch  93999 | 100000 \t acc =  0.575 \tloss =  0.9999705670200528\n",
      "epoch  94666 | 100000 \t acc =  0.575 \tloss =  0.9999707904083652\n",
      "epoch  95333 | 100000 \t acc =  0.61 \tloss =  0.9999665651512716\n",
      "epoch  95999 | 100000 \t acc =  0.565 \tloss =  0.9999721967242988\n",
      "epoch  96666 | 100000 \t acc =  0.625 \tloss =  0.9999605649032582\n",
      "epoch  97333 | 100000 \t acc =  0.63 \tloss =  0.9999608353963552\n",
      "epoch  97999 | 100000 \t acc =  0.615 \tloss =  0.9999573316861177\n",
      "epoch  98666 | 100000 \t acc =  0.64 \tloss =  0.9999532935470336\n",
      "epoch  99333 | 100000 \t acc =  0.585 \tloss =  0.9999678631106377\n",
      "epoch  99999 | 100000 \t acc =  0.635 \tloss =  0.9999574544051637\n"
     ]
    }
   ],
   "source": [
    "loss_history,acc_histroy = model.train(X_train,Y_train.astype('int'),2,epoch = 100000,lr= 1e-9,\n",
    "                                       activation_function='sigmoid',printFreq = 2000,batch_size = 200)"
   ]
  },
  {
   "cell_type": "code",
   "execution_count": null,
   "metadata": {},
   "outputs": [],
   "source": [
    "score,acc = model.predict(X_test,Y_test)"
   ]
  },
  {
   "cell_type": "code",
   "execution_count": null,
   "metadata": {},
   "outputs": [],
   "source": [
    "Y_train.shape"
   ]
  },
  {
   "cell_type": "code",
   "execution_count": 32,
   "metadata": {},
   "outputs": [
    {
     "data": {
      "image/png": "[encoded data removed]",
      "text/plain": [
       "<Figure size 432x288 with 1 Axes>"
      ]
     },
     "metadata": {
      "needs_background": "light"
     },
     "output_type": "display_data"
    }
   ],
   "source": [
    "plt.plot(loss_history)\n",
    "plt.show()"
   ]
  },
  {
   "cell_type": "code",
   "execution_count": 33,
   "metadata": {},
   "outputs": [
    {
     "data": {
      "image/png": "[encoded data removed]",
      "text/plain": [
       "<Figure size 432x288 with 1 Axes>"
      ]
     },
     "metadata": {
      "needs_background": "light"
     },
     "output_type": "display_data"
    }
   ],
   "source": [
    "plt.plot(acc_histroy)\n",
    "plt.show()"
   ]
  },
  {
   "cell_type": "code",
   "execution_count": null,
   "metadata": {},
   "outputs": [],
   "source": []
  }
 ],
 "metadata": {
  "kernelspec": {
   "display_name": "Python 3",
   "language": "python",
   "name": "python3"
  },
  "language_info": {
   "codemirror_mode": {
    "name": "ipython",
    "version": 3
   },
   "file_extension": ".py",
   "mimetype": "text/x-python",
   "name": "python",
   "nbconvert_exporter": "python",
   "pygments_lexer": "ipython3",
   "version": "3.7.2"
  }
 },
 "nbformat": 4,
 "nbformat_minor": 2
}
